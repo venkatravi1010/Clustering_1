{
  "metadata": {
    "kernelspec": {
      "language": "python",
      "display_name": "Python 3",
      "name": "python3"
    },
    "language_info": {
      "name": "python",
      "version": "3.7.12",
      "mimetype": "text/x-python",
      "codemirror_mode": {
        "name": "ipython",
        "version": 3
      },
      "pygments_lexer": "ipython3",
      "nbconvert_exporter": "python",
      "file_extension": ".py"
    },
    "colab": {
      "provenance": []
    }
  },
  "nbformat_minor": 0,
  "nbformat": 4,
  "cells": [
    {
      "cell_type": "code",
      "source": [
        "!pip install -U kaleido"
      ],
      "metadata": {
        "execution": {
          "iopub.status.busy": "2022-11-21T20:34:09.225543Z",
          "iopub.execute_input": "2022-11-21T20:34:09.225988Z"
        },
        "trusted": true,
        "colab": {
          "base_uri": "https://localhost:8080/"
        },
        "id": "r7rjSUGHWuKl",
        "outputId": "b1531848-d91d-43c5-dd65-92bf2525201c"
      },
      "execution_count": null,
      "outputs": [
        {
          "output_type": "stream",
          "name": "stdout",
          "text": [
            "Looking in indexes: https://pypi.org/simple, https://us-python.pkg.dev/colab-wheels/public/simple/\n",
            "Collecting kaleido\n",
            "  Downloading kaleido-0.2.1-py2.py3-none-manylinux1_x86_64.whl (79.9 MB)\n",
            "\u001b[K     |████████████████████████████████| 79.9 MB 104 kB/s \n",
            "\u001b[?25hInstalling collected packages: kaleido\n",
            "Successfully installed kaleido-0.2.1\n"
          ]
        }
      ]
    },
    {
      "cell_type": "code",
      "source": [
        "import pandas as pd \n",
        "import numpy as np \n",
        "import matplotlib.pyplot as plt \n",
        "import plotly.graph_objects as go\n",
        "from plotly.subplots import make_subplots\n",
        "import plotly.figure_factory as ff\n",
        "\n",
        "from sklearn.model_selection import StratifiedKFold\n",
        "from sklearn.cluster import KMeans, AgglomerativeClustering, DBSCAN\n",
        "from sklearn.decomposition import PCA\n",
        "from sklearn.metrics import confusion_matrix\n",
        "\n",
        "from sklearn.metrics import accuracy_score, f1_score\n",
        "\n",
        "from plotly.offline import init_notebook_mode, iplot\n",
        "init_notebook_mode(connected=True)\n",
        "\n",
        "import plotly.io as pio\n",
        "pio.renderers.default = 'pdf'"
      ],
      "metadata": {
        "trusted": true,
        "colab": {
          "base_uri": "https://localhost:8080/",
          "height": 17
        },
        "id": "KmiUQ8xpWuKn",
        "outputId": "286177aa-b80c-4a61-82f2-695ecd40b1ad"
      },
      "execution_count": null,
      "outputs": [
        {
          "output_type": "display_data",
          "data": {
            "text/html": [
              "        <script type=\"text/javascript\">\n",
              "        window.PlotlyConfig = {MathJaxConfig: 'local'};\n",
              "        if (window.MathJax) {MathJax.Hub.Config({SVG: {font: \"STIX-Web\"}});}\n",
              "        if (typeof require !== 'undefined') {\n",
              "        require.undef(\"plotly\");\n",
              "        requirejs.config({\n",
              "            paths: {\n",
              "                'plotly': ['https://cdn.plot.ly/plotly-2.8.3.min']\n",
              "            }\n",
              "        });\n",
              "        require(['plotly'], function(Plotly) {\n",
              "            window._Plotly = Plotly;\n",
              "        });\n",
              "        }\n",
              "        </script>\n",
              "        "
            ]
          },
          "metadata": {}
        }
      ]
    },
    {
      "cell_type": "code",
      "source": [
        "data = [\n",
        "    '../input/fdaproject1dataset/Data1.csv', # run3D 0\n",
        "    '../input/fdaproject1dataset/Data2.csv', # run3D 1\n",
        "    '../input/fdaproject1dataset/Data3.csv', # run3D 2\n",
        "    '../input/fdaproject1dataset/Data4.csv', #Chain-link Dataset, run3D 3\n",
        "    '../input/fdaproject1dataset/Data5.csv', #Atom Dataset, run3D 4\n",
        "    '../input/fdaproject1dataset/Data8.csv',  # run3D 5\n",
        "    '../input/fdaproject1dataset/Data6.csv', # run2D 6\n",
        "    '../input/fdaproject1dataset/Data7.csv', #Circular Dataset, run 2D 7\n",
        "]\n",
        "\n",
        "model = [\n",
        "    'k-means', # run3D\n",
        "    'H-clusters', # run3D\n",
        "    'k-means', # run3D\n",
        "    'DBSCAN', #Chain-link Dataset, run3D\n",
        "    'DBSCAN', #Atom Dataset, run3D\n",
        "    'kmeans', #run2D\n",
        "    'DBSCAN', #Circular Dataset, run 2D\n",
        "    'H-clusters' #run3D\n",
        "]"
      ],
      "metadata": {
        "trusted": true,
        "id": "44ryGSErWuKo"
      },
      "execution_count": null,
      "outputs": []
    },
    {
      "cell_type": "code",
      "source": [
        "def label_mapper(og, pred):\n",
        "    cm = confusion_matrix(og, pred)\n",
        "    cm_argmax = cm.argmax(axis=0)\n",
        "    y_pred = np.array([cm_argmax[i] for i in pred])\n",
        "    return y_pred"
      ],
      "metadata": {
        "trusted": true,
        "id": "Rt1KHQ2zWuKo"
      },
      "execution_count": null,
      "outputs": []
    },
    {
      "cell_type": "code",
      "source": [
        "def run3D(data, i, drop_cols = None, model_name = None, min_samples = 1): #for dataset data[0-4]\n",
        "    \n",
        "    if i == 5:  #ignore this... this is only for printing the title for specific data\n",
        "        i = 7  \n",
        "    \n",
        "    k_values = len(data['X4'].unique())\n",
        "    df = data.drop(drop_cols, axis = 1)\n",
        "    \n",
        "    if model_name == 'k-means':\n",
        "        model = KMeans(n_clusters=k_values, random_state=0).fit(df.iloc[:, :3])\n",
        "        df['y_pred'] = model.labels_\n",
        "    \n",
        "    elif model_name == 'H-clusters':\n",
        "        model = AgglomerativeClustering(n_clusters=k_values, linkage=\"ward\").fit(df.iloc[:, :3])\n",
        "        df['y_pred'] = model.labels_\n",
        "\n",
        "  \n",
        "    elif model_name == 'DBSCAN':\n",
        "        model = DBSCAN(eps=0.3, min_samples=min_samples).fit(df.iloc[:, :3])\n",
        "        df['y_pred'] = model.labels_\n",
        "    \n",
        "    df['y_pred'] = label_mapper(df['X4'], df['y_pred'])\n",
        "    accuracy = accuracy_score(df['X4'], df['y_pred'])\n",
        "    \n",
        "    fig = make_subplots(rows=1, cols=2, specs =[[{'type': 'scene'}, {'type': 'scene'}]], \n",
        "                        subplot_titles=('Original Labels', 'Predicted Labels'))\n",
        "    \n",
        "    X, Y, Z = df['X1'], df['X2'], df['X3']\n",
        "    og_labels, pred_labels = df['X4'], df['y_pred']\n",
        "    \n",
        "    fig.add_trace(\n",
        "        go.Scatter3d(x=X, y=Y, z=Z, mode='markers', hovertext = og_labels, marker = dict(color = og_labels)),\n",
        "        row=1, col=1\n",
        "    )\n",
        "\n",
        "    fig.add_trace(\n",
        "        go.Scatter3d(x=X, y=Y, z=Z, mode='markers', hovertext = pred_labels, marker = dict(color = pred_labels)),\n",
        "        row=1, col=2\n",
        "    )\n",
        "    \n",
        "    fig.update_layout(\n",
        "        height=600, width=1000, \n",
        "        title_text= f\"<b> DATA : {i+1}    MODEL : {model_name}   ACCURACY SCORE {accuracy*100} % </b>\",\n",
        "        font=dict(\n",
        "        family=\"Courier New, monospace\",\n",
        "        size=12,  # Set the font size here\n",
        "        color=\"black\")\n",
        "    )\n",
        "    fig.show(renderer=\"pdf\")\n",
        "    \n",
        "    if model_name == 'H-clusters':\n",
        "        f = ff.create_dendrogram(df.iloc[:,:3])\n",
        "        f.update_layout(width=1000, height=700)\n",
        "        f.show(renderer=\"pdf\")\n",
        "    \n",
        "    return {'y_pred' : df['y_pred'], 'model' : model, 'accuracy' : accuracy}"
      ],
      "metadata": {
        "trusted": true,
        "id": "zTzhNqOqWuKp"
      },
      "execution_count": null,
      "outputs": []
    },
    {
      "cell_type": "code",
      "source": [
        "from google.colab import drive\n",
        "drive.mount('/content/drive/')"
      ],
      "metadata": {
        "colab": {
          "base_uri": "https://localhost:8080/"
        },
        "id": "z6LVps3HXTFu",
        "outputId": "8e91daf7-9455-405d-fc2b-33a3d7273cf3"
      },
      "execution_count": null,
      "outputs": [
        {
          "output_type": "stream",
          "name": "stdout",
          "text": [
            "Mounted at /content/drive/\n"
          ]
        }
      ]
    },
    {
      "cell_type": "code",
      "source": [],
      "metadata": {
        "id": "Qy1iQlwlXedG"
      },
      "execution_count": null,
      "outputs": []
    },
    {
      "cell_type": "code",
      "source": [
        "for i in range(6):\n",
        "    df = pd.read_csv('/content/drive/MyDrive/IE5374 Workspace/Colab Notebooks/Project_1/Data1.csv')\n",
        "    df.columns = ['X0', 'X1', 'X2', 'X3', 'X4']\n",
        "    saves1 = run3D(df, i, ['X0'], model_name = 'k-means')\n",
        "    saves2 = run3D(df, i, ['X0'], model_name = 'H-clusters')"
      ],
      "metadata": {
        "trusted": true,
        "colab": {
          "base_uri": "https://localhost:8080/",
          "height": 389
        },
        "id": "8mW_83MyWuKp",
        "outputId": "8befd640-44bf-42c6-ab12-5c913edbec81"
      },
      "execution_count": null,
      "outputs": [
        {
          "output_type": "error",
          "ename": "ValueError",
          "evalue": "ignored",
          "traceback": [
            "\u001b[0;31m---------------------------------------------------------------------------\u001b[0m",
            "\u001b[0;31mValueError\u001b[0m                                Traceback (most recent call last)",
            "\u001b[0;32m<ipython-input-12-aae11ab8b19d>\u001b[0m in \u001b[0;36m<module>\u001b[0;34m\u001b[0m\n\u001b[1;32m      1\u001b[0m \u001b[0;32mfor\u001b[0m \u001b[0mi\u001b[0m \u001b[0;32min\u001b[0m \u001b[0mrange\u001b[0m\u001b[0;34m(\u001b[0m\u001b[0;36m6\u001b[0m\u001b[0;34m)\u001b[0m\u001b[0;34m:\u001b[0m\u001b[0;34m\u001b[0m\u001b[0;34m\u001b[0m\u001b[0m\n\u001b[1;32m      2\u001b[0m     \u001b[0mdf\u001b[0m \u001b[0;34m=\u001b[0m \u001b[0mpd\u001b[0m\u001b[0;34m.\u001b[0m\u001b[0mread_csv\u001b[0m\u001b[0;34m(\u001b[0m\u001b[0;34m'/content/drive/MyDrive/IE5374 Workspace/Colab Notebooks/Project_1/Data1.csv'\u001b[0m\u001b[0;34m)\u001b[0m\u001b[0;34m\u001b[0m\u001b[0;34m\u001b[0m\u001b[0m\n\u001b[0;32m----> 3\u001b[0;31m     \u001b[0mdf\u001b[0m\u001b[0;34m.\u001b[0m\u001b[0mcolumns\u001b[0m \u001b[0;34m=\u001b[0m \u001b[0;34m[\u001b[0m\u001b[0;34m'X0'\u001b[0m\u001b[0;34m,\u001b[0m \u001b[0;34m'X1'\u001b[0m\u001b[0;34m,\u001b[0m \u001b[0;34m'X2'\u001b[0m\u001b[0;34m,\u001b[0m \u001b[0;34m'X3'\u001b[0m\u001b[0;34m,\u001b[0m \u001b[0;34m'X4'\u001b[0m\u001b[0;34m]\u001b[0m\u001b[0;34m\u001b[0m\u001b[0;34m\u001b[0m\u001b[0m\n\u001b[0m\u001b[1;32m      4\u001b[0m     \u001b[0msaves1\u001b[0m \u001b[0;34m=\u001b[0m \u001b[0mrun3D\u001b[0m\u001b[0;34m(\u001b[0m\u001b[0mdf\u001b[0m\u001b[0;34m,\u001b[0m \u001b[0mi\u001b[0m\u001b[0;34m,\u001b[0m \u001b[0;34m[\u001b[0m\u001b[0;34m'X0'\u001b[0m\u001b[0;34m]\u001b[0m\u001b[0;34m,\u001b[0m \u001b[0mmodel_name\u001b[0m \u001b[0;34m=\u001b[0m \u001b[0;34m'k-means'\u001b[0m\u001b[0;34m)\u001b[0m\u001b[0;34m\u001b[0m\u001b[0;34m\u001b[0m\u001b[0m\n\u001b[1;32m      5\u001b[0m     \u001b[0msaves2\u001b[0m \u001b[0;34m=\u001b[0m \u001b[0mrun3D\u001b[0m\u001b[0;34m(\u001b[0m\u001b[0mdf\u001b[0m\u001b[0;34m,\u001b[0m \u001b[0mi\u001b[0m\u001b[0;34m,\u001b[0m \u001b[0;34m[\u001b[0m\u001b[0;34m'X0'\u001b[0m\u001b[0;34m]\u001b[0m\u001b[0;34m,\u001b[0m \u001b[0mmodel_name\u001b[0m \u001b[0;34m=\u001b[0m \u001b[0;34m'H-clusters'\u001b[0m\u001b[0;34m)\u001b[0m\u001b[0;34m\u001b[0m\u001b[0;34m\u001b[0m\u001b[0m\n",
            "\u001b[0;32m/usr/local/lib/python3.7/dist-packages/pandas/core/generic.py\u001b[0m in \u001b[0;36m__setattr__\u001b[0;34m(self, name, value)\u001b[0m\n\u001b[1;32m   5498\u001b[0m         \u001b[0;32mtry\u001b[0m\u001b[0;34m:\u001b[0m\u001b[0;34m\u001b[0m\u001b[0;34m\u001b[0m\u001b[0m\n\u001b[1;32m   5499\u001b[0m             \u001b[0mobject\u001b[0m\u001b[0;34m.\u001b[0m\u001b[0m__getattribute__\u001b[0m\u001b[0;34m(\u001b[0m\u001b[0mself\u001b[0m\u001b[0;34m,\u001b[0m \u001b[0mname\u001b[0m\u001b[0;34m)\u001b[0m\u001b[0;34m\u001b[0m\u001b[0;34m\u001b[0m\u001b[0m\n\u001b[0;32m-> 5500\u001b[0;31m             \u001b[0;32mreturn\u001b[0m \u001b[0mobject\u001b[0m\u001b[0;34m.\u001b[0m\u001b[0m__setattr__\u001b[0m\u001b[0;34m(\u001b[0m\u001b[0mself\u001b[0m\u001b[0;34m,\u001b[0m \u001b[0mname\u001b[0m\u001b[0;34m,\u001b[0m \u001b[0mvalue\u001b[0m\u001b[0;34m)\u001b[0m\u001b[0;34m\u001b[0m\u001b[0;34m\u001b[0m\u001b[0m\n\u001b[0m\u001b[1;32m   5501\u001b[0m         \u001b[0;32mexcept\u001b[0m \u001b[0mAttributeError\u001b[0m\u001b[0;34m:\u001b[0m\u001b[0;34m\u001b[0m\u001b[0;34m\u001b[0m\u001b[0m\n\u001b[1;32m   5502\u001b[0m             \u001b[0;32mpass\u001b[0m\u001b[0;34m\u001b[0m\u001b[0;34m\u001b[0m\u001b[0m\n",
            "\u001b[0;32m/usr/local/lib/python3.7/dist-packages/pandas/_libs/properties.pyx\u001b[0m in \u001b[0;36mpandas._libs.properties.AxisProperty.__set__\u001b[0;34m()\u001b[0m\n",
            "\u001b[0;32m/usr/local/lib/python3.7/dist-packages/pandas/core/generic.py\u001b[0m in \u001b[0;36m_set_axis\u001b[0;34m(self, axis, labels)\u001b[0m\n\u001b[1;32m    764\u001b[0m     \u001b[0;32mdef\u001b[0m \u001b[0m_set_axis\u001b[0m\u001b[0;34m(\u001b[0m\u001b[0mself\u001b[0m\u001b[0;34m,\u001b[0m \u001b[0maxis\u001b[0m\u001b[0;34m:\u001b[0m \u001b[0mint\u001b[0m\u001b[0;34m,\u001b[0m \u001b[0mlabels\u001b[0m\u001b[0;34m:\u001b[0m \u001b[0mIndex\u001b[0m\u001b[0;34m)\u001b[0m \u001b[0;34m->\u001b[0m \u001b[0;32mNone\u001b[0m\u001b[0;34m:\u001b[0m\u001b[0;34m\u001b[0m\u001b[0;34m\u001b[0m\u001b[0m\n\u001b[1;32m    765\u001b[0m         \u001b[0mlabels\u001b[0m \u001b[0;34m=\u001b[0m \u001b[0mensure_index\u001b[0m\u001b[0;34m(\u001b[0m\u001b[0mlabels\u001b[0m\u001b[0;34m)\u001b[0m\u001b[0;34m\u001b[0m\u001b[0;34m\u001b[0m\u001b[0m\n\u001b[0;32m--> 766\u001b[0;31m         \u001b[0mself\u001b[0m\u001b[0;34m.\u001b[0m\u001b[0m_mgr\u001b[0m\u001b[0;34m.\u001b[0m\u001b[0mset_axis\u001b[0m\u001b[0;34m(\u001b[0m\u001b[0maxis\u001b[0m\u001b[0;34m,\u001b[0m \u001b[0mlabels\u001b[0m\u001b[0;34m)\u001b[0m\u001b[0;34m\u001b[0m\u001b[0;34m\u001b[0m\u001b[0m\n\u001b[0m\u001b[1;32m    767\u001b[0m         \u001b[0mself\u001b[0m\u001b[0;34m.\u001b[0m\u001b[0m_clear_item_cache\u001b[0m\u001b[0;34m(\u001b[0m\u001b[0;34m)\u001b[0m\u001b[0;34m\u001b[0m\u001b[0;34m\u001b[0m\u001b[0m\n\u001b[1;32m    768\u001b[0m \u001b[0;34m\u001b[0m\u001b[0m\n",
            "\u001b[0;32m/usr/local/lib/python3.7/dist-packages/pandas/core/internals/managers.py\u001b[0m in \u001b[0;36mset_axis\u001b[0;34m(self, axis, new_labels)\u001b[0m\n\u001b[1;32m    214\u001b[0m     \u001b[0;32mdef\u001b[0m \u001b[0mset_axis\u001b[0m\u001b[0;34m(\u001b[0m\u001b[0mself\u001b[0m\u001b[0;34m,\u001b[0m \u001b[0maxis\u001b[0m\u001b[0;34m:\u001b[0m \u001b[0mint\u001b[0m\u001b[0;34m,\u001b[0m \u001b[0mnew_labels\u001b[0m\u001b[0;34m:\u001b[0m \u001b[0mIndex\u001b[0m\u001b[0;34m)\u001b[0m \u001b[0;34m->\u001b[0m \u001b[0;32mNone\u001b[0m\u001b[0;34m:\u001b[0m\u001b[0;34m\u001b[0m\u001b[0;34m\u001b[0m\u001b[0m\n\u001b[1;32m    215\u001b[0m         \u001b[0;31m# Caller is responsible for ensuring we have an Index object.\u001b[0m\u001b[0;34m\u001b[0m\u001b[0;34m\u001b[0m\u001b[0;34m\u001b[0m\u001b[0m\n\u001b[0;32m--> 216\u001b[0;31m         \u001b[0mself\u001b[0m\u001b[0;34m.\u001b[0m\u001b[0m_validate_set_axis\u001b[0m\u001b[0;34m(\u001b[0m\u001b[0maxis\u001b[0m\u001b[0;34m,\u001b[0m \u001b[0mnew_labels\u001b[0m\u001b[0;34m)\u001b[0m\u001b[0;34m\u001b[0m\u001b[0;34m\u001b[0m\u001b[0m\n\u001b[0m\u001b[1;32m    217\u001b[0m         \u001b[0mself\u001b[0m\u001b[0;34m.\u001b[0m\u001b[0maxes\u001b[0m\u001b[0;34m[\u001b[0m\u001b[0maxis\u001b[0m\u001b[0;34m]\u001b[0m \u001b[0;34m=\u001b[0m \u001b[0mnew_labels\u001b[0m\u001b[0;34m\u001b[0m\u001b[0;34m\u001b[0m\u001b[0m\n\u001b[1;32m    218\u001b[0m \u001b[0;34m\u001b[0m\u001b[0m\n",
            "\u001b[0;32m/usr/local/lib/python3.7/dist-packages/pandas/core/internals/base.py\u001b[0m in \u001b[0;36m_validate_set_axis\u001b[0;34m(self, axis, new_labels)\u001b[0m\n\u001b[1;32m     56\u001b[0m         \u001b[0;32melif\u001b[0m \u001b[0mnew_len\u001b[0m \u001b[0;34m!=\u001b[0m \u001b[0mold_len\u001b[0m\u001b[0;34m:\u001b[0m\u001b[0;34m\u001b[0m\u001b[0;34m\u001b[0m\u001b[0m\n\u001b[1;32m     57\u001b[0m             raise ValueError(\n\u001b[0;32m---> 58\u001b[0;31m                 \u001b[0;34mf\"Length mismatch: Expected axis has {old_len} elements, new \"\u001b[0m\u001b[0;34m\u001b[0m\u001b[0;34m\u001b[0m\u001b[0m\n\u001b[0m\u001b[1;32m     59\u001b[0m                 \u001b[0;34mf\"values have {new_len} elements\"\u001b[0m\u001b[0;34m\u001b[0m\u001b[0;34m\u001b[0m\u001b[0m\n\u001b[1;32m     60\u001b[0m             )\n",
            "\u001b[0;31mValueError\u001b[0m: Length mismatch: Expected axis has 4 elements, new values have 5 elements"
          ]
        }
      ]
    },
    {
      "cell_type": "code",
      "source": [
        "def run2D(data, i, drop_cols = None, model_name = None, min_samples = 1): #for dataset data[0-4]\n",
        "    \n",
        "    k_values = len(data['X3'].unique())\n",
        "    df = data.drop(drop_cols, axis = 1)\n",
        "    \n",
        "    if model_name == 'k-means':\n",
        "        model = KMeans(n_clusters=k_values, random_state=0).fit(df.iloc[:, :2])\n",
        "        df['y_pred'] = model.labels_\n",
        "        \n",
        "    elif model_name == 'H-clusters':\n",
        "        model = AgglomerativeClustering(n_clusters=k_values, linkage=\"ward\").fit(df.iloc[:, :2])\n",
        "        df['y_pred'] = model.labels_\n",
        "  \n",
        "    elif model_name == 'DBSCAN':\n",
        "        model = DBSCAN(eps=0.3, min_samples=min_samples).fit(df.iloc[:, :2])\n",
        "        df['y_pred'] = model.labels_\n",
        "    \n",
        "    df['y_pred'] = label_mapper(df['X3'], df['y_pred'])\n",
        "    accuracy = accuracy_score(df['X3'], df['y_pred'])\n",
        "    \n",
        "    fig = make_subplots(rows=1, cols=2, specs =[[{'type': 'xy'}, {'type': 'xy'}]], \n",
        "                        subplot_titles=('Original Labels', 'Predicted Labels'))\n",
        "    \n",
        "    X, Y = df['X1'], df['X2']\n",
        "    og_labels, pred_labels = df['X3'], df['y_pred']\n",
        "    \n",
        "    fig.add_trace(\n",
        "        go.Scatter(x=X, y=Y, mode='markers', hovertext = og_labels, marker = dict(color = og_labels)),\n",
        "        row=1, col=1\n",
        "    )\n",
        "\n",
        "    fig.add_trace(\n",
        "        go.Scatter(x=X, y=Y, mode='markers', hovertext = pred_labels, marker = dict(color = pred_labels)),\n",
        "        row=1, col=2\n",
        "    )\n",
        "    \n",
        "    fig.update_layout(\n",
        "        height=600, width=1000, \n",
        "        title_text= f\"<b> DATA : {i}    MODEL : {model_name}   ACCURACY SCORE {accuracy*100} % </b>\",\n",
        "        font=dict(\n",
        "        family=\"Courier New, monospace\",\n",
        "        size=12,  # Set the font size here\n",
        "        color=\"black\")\n",
        "    )\n",
        "    fig.show(renderer=\"pdf\")\n",
        "    \n",
        "    if model_name == 'H-clusters':\n",
        "        f = ff.create_dendrogram(df.iloc[:,:2])\n",
        "        f.update_layout(width=1000, height=700)\n",
        "        f.show(renderer=\"pdf\")\n",
        "    \n",
        "    return {'y_pred' : df['y_pred'], 'model' : model, 'accuracy' : accuracy}"
      ],
      "metadata": {
        "trusted": true,
        "id": "ubYmdjklWuKq"
      },
      "execution_count": null,
      "outputs": []
    },
    {
      "cell_type": "code",
      "source": [
        "for i in range(6, len(data)):\n",
        "    df = pd.read_csv(data[i])\n",
        "    df.columns = ['X0', 'X1', 'X2', 'X3']\n",
        "    saves1 = run2D(df, i, ['X0'], model_name = 'k-means')\n",
        "    saves2 = run2D(df, i, ['X0'], model_name = 'H-clusters')"
      ],
      "metadata": {
        "trusted": true,
        "id": "E0ZPJrqxWuKq"
      },
      "execution_count": null,
      "outputs": []
    },
    {
      "cell_type": "markdown",
      "source": [
        "# Some Alternative Methods which give better clustering\n",
        "\n",
        "When it comes Dataset number 4, 5, 7, this type of dataset are known as chain-linked, atom and circular dataset. Complexity of this dataset can be handle by unsupervised model like spectral clustering, DBSCAN, kernel-based K-means. Here we have used DBSCAN and the settings parameters were validated"
      ],
      "metadata": {
        "id": "B2fGbmCMWuKr"
      }
    },
    {
      "cell_type": "code",
      "source": [
        "df = pd.read_csv(data[3])\n",
        "df.columns = ['X0', 'X1', 'X2', 'X3', 'X4']\n",
        "saves = run3D(df, 3, ['X0'], model_name = 'DBSCAN')"
      ],
      "metadata": {
        "trusted": true,
        "id": "ZSP_jVp3WuKs"
      },
      "execution_count": null,
      "outputs": []
    },
    {
      "cell_type": "code",
      "source": [
        "df = pd.read_csv(data[4])\n",
        "df.columns = ['X0', 'X1', 'X2', 'X3', 'X4']\n",
        "saves = run3D(df, 4, ['X0'], model_name = 'DBSCAN')"
      ],
      "metadata": {
        "trusted": true,
        "id": "yH_LDW_MWuKs"
      },
      "execution_count": null,
      "outputs": []
    },
    {
      "cell_type": "code",
      "source": [
        "df = pd.read_csv(data[7])\n",
        "df.columns = ['X0', 'X1', 'X2', 'X3']\n",
        "saves = run2D(df, 7, ['X0'], model_name = 'DBSCAN')"
      ],
      "metadata": {
        "trusted": true,
        "id": "vApnf-iuWuKs"
      },
      "execution_count": null,
      "outputs": []
    }
  ]
}